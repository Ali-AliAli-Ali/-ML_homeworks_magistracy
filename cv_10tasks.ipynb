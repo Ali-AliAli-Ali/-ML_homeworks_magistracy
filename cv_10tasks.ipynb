{
 "cells": [
  {
   "cell_type": "code",
   "execution_count": 2,
   "metadata": {},
   "outputs": [],
   "source": [
    "import numpy as np\n",
    "import cv2"
   ]
  },
  {
   "cell_type": "code",
   "execution_count": 3,
   "metadata": {},
   "outputs": [],
   "source": [
    "pic = cv2.imread('meme.jpg')"
   ]
  },
  {
   "cell_type": "markdown",
   "metadata": {},
   "source": [
    "Оригинальное изображение, используемое в следующих заданиях\n",
    "\n",
    "![original](meme.jpg)"
   ]
  },
  {
   "cell_type": "markdown",
   "metadata": {},
   "source": [
    "### Задание 1"
   ]
  },
  {
   "cell_type": "code",
   "execution_count": 3,
   "metadata": {},
   "outputs": [],
   "source": [
    "input_pic = cv2.imread('meme_distorted.jpg')\n",
    "train_pic = pic\n",
    " \n",
    "input_pic_gray = cv2.cvtColor(input_pic, cv2.COLOR_BGR2GRAY)\n",
    "train_pic_gray = cv2.cvtColor(train_pic, cv2.COLOR_BGR2GRAY)\n",
    " \n",
    "orb = cv2.ORB_create()\n",
    "input_keypts, input_descrs = orb.detectAndCompute(input_pic_gray, None)\n",
    "train_keypts, train_descrs = orb.detectAndCompute(train_pic_gray, None)\n",
    "\n",
    "matcher = cv2.BFMatcher()\n",
    "matches = matcher.match(input_descrs,train_descrs)\n",
    " \n",
    "final_pic = cv2.drawMatches(input_pic, input_keypts, train_pic, train_keypts, matches[:20], None)\n",
    "final_pic = cv2.resize(final_pic, (0,0), fx=0.7, fy=0.7, interpolation=cv2.INTER_NEAREST)\n",
    "\n",
    "is_result = cv2.imwrite('./results/1.png', final_pic)"
   ]
  },
  {
   "cell_type": "markdown",
   "metadata": {},
   "source": [
    "![Matches](./results/1.png)"
   ]
  },
  {
   "cell_type": "markdown",
   "metadata": {},
   "source": [
    "### Задание 2"
   ]
  },
  {
   "cell_type": "code",
   "execution_count": 12,
   "metadata": {},
   "outputs": [],
   "source": [
    "pic_gray = cv2.cvtColor(pic, cv2.COLOR_BGR2GRAY)\n",
    " \n",
    "sift = cv2.SIFT_create()\n",
    "keypts = sift.detect(pic_gray, None)\n",
    "pic_gray = cv2.drawKeypoints(pic_gray, keypts, pic_gray)\n",
    "\n",
    "is_result = cv2.imwrite('./results/2.png', pic_gray)"
   ]
  },
  {
   "cell_type": "markdown",
   "metadata": {},
   "source": [
    "![sift_keypoints](./results/2.png)"
   ]
  },
  {
   "cell_type": "markdown",
   "metadata": {},
   "source": [
    "### Задание 3"
   ]
  },
  {
   "cell_type": "code",
   "execution_count": 3,
   "metadata": {},
   "outputs": [],
   "source": [
    "pic_edges = cv2.Canny(pic, 150, 200)\n",
    "is_result = cv2.imwrite('./results/3.png', pic_edges)"
   ]
  },
  {
   "cell_type": "markdown",
   "metadata": {},
   "source": [
    "![Canny_edges](./results/3.png)"
   ]
  },
  {
   "cell_type": "markdown",
   "metadata": {},
   "source": [
    "### Задание 4"
   ]
  },
  {
   "cell_type": "code",
   "execution_count": 5,
   "metadata": {},
   "outputs": [],
   "source": [
    "pic_gray = cv2.cvtColor(pic, cv2.COLOR_BGR2GRAY)\n",
    "is_result = cv2.imwrite('./results/4.png', pic_gray)"
   ]
  },
  {
   "cell_type": "markdown",
   "metadata": {},
   "source": [
    "![Grayscale](./results/4.png)"
   ]
  },
  {
   "cell_type": "markdown",
   "metadata": {},
   "source": [
    "### Задание 5"
   ]
  },
  {
   "cell_type": "code",
   "execution_count": 6,
   "metadata": {},
   "outputs": [],
   "source": [
    "pic_hsv = cv2.cvtColor(pic, cv2.COLOR_BGR2HSV)\n",
    "is_result = cv2.imwrite('./results/5.png', pic_hsv)"
   ]
  },
  {
   "cell_type": "markdown",
   "metadata": {},
   "source": [
    "![HSV_format](./results/5.png)"
   ]
  },
  {
   "cell_type": "markdown",
   "metadata": {},
   "source": [
    "### Задание 6"
   ]
  },
  {
   "cell_type": "code",
   "execution_count": 7,
   "metadata": {},
   "outputs": [],
   "source": [
    "pic_flip_h = cv2.flip(pic, 1)\n",
    "is_result = cv2.imwrite('./results/6.png', pic_flip_h)"
   ]
  },
  {
   "cell_type": "markdown",
   "metadata": {},
   "source": [
    "![Flipped_horizontally](./results/6.png)"
   ]
  },
  {
   "cell_type": "markdown",
   "metadata": {},
   "source": [
    "### Задание 7"
   ]
  },
  {
   "cell_type": "code",
   "execution_count": 8,
   "metadata": {},
   "outputs": [],
   "source": [
    "pic_flip_v = cv2.flip(pic, 0)\n",
    "is_result = cv2.imwrite('./results/7.png', pic_flip_v)"
   ]
  },
  {
   "cell_type": "markdown",
   "metadata": {},
   "source": [
    "![Flipped_vertically](./results/7.png)"
   ]
  },
  {
   "cell_type": "markdown",
   "metadata": {},
   "source": [
    "### Задание 9"
   ]
  },
  {
   "cell_type": "code",
   "execution_count": 10,
   "metadata": {},
   "outputs": [],
   "source": [
    "h_w_pic = np.array((pic.shape[1], pic.shape[0]))\n",
    "rot_point = h_w_pic / 4 * 3\n",
    "pic_rot = pic\n",
    "pic_rot = cv2.circle(pic_rot, rot_point.astype(int), 2, (20, 250, 180), 3)\n",
    "\n",
    "angle = 30\n",
    "\n",
    "rot_matr = cv2.getRotationMatrix2D(rot_point, angle, 1.0)\n",
    "rot_matr[0,2] += h_w_pic[0] * 0.12\n",
    "rot_matr[1,2] += h_w_pic[1] * 0.12\n",
    "\n",
    "pic_rot = cv2.warpAffine(pic, rot_matr, (h_w_pic * (1.2, 1.8)).astype(int), flags=cv2.INTER_LINEAR)\n",
    "\n",
    "is_result = cv2.imwrite('./results/9.png', pic_rot)"
   ]
  },
  {
   "cell_type": "markdown",
   "metadata": {},
   "source": [
    "![Rotated_30_degrees](./results/9.png)"
   ]
  },
  {
   "cell_type": "markdown",
   "metadata": {},
   "source": [
    "### Задание 18"
   ]
  },
  {
   "cell_type": "code",
   "execution_count": 9,
   "metadata": {},
   "outputs": [],
   "source": [
    "threshold, pic_bin = cv2.threshold(pic, 128, 255, cv2.THRESH_BINARY)\n",
    "is_result = cv2.imwrite('./results/18.png', pic_bin)"
   ]
  },
  {
   "cell_type": "markdown",
   "metadata": {},
   "source": [
    "![Binarized](./results/18.png)"
   ]
  },
  {
   "cell_type": "markdown",
   "metadata": {},
   "source": [
    "### Задание 21"
   ]
  },
  {
   "cell_type": "code",
   "execution_count": 84,
   "metadata": {},
   "outputs": [],
   "source": [
    "pic_blur = cv2.blur(pic, (10,10))\n",
    "is_result = cv2.imwrite('./results/21.png', pic_blur)"
   ]
  },
  {
   "cell_type": "markdown",
   "metadata": {},
   "source": [
    "![Blurred](./results/21.png)"
   ]
  }
 ],
 "metadata": {
  "kernelspec": {
   "display_name": ".cvvenv",
   "language": "python",
   "name": "python3"
  },
  "language_info": {
   "codemirror_mode": {
    "name": "ipython",
    "version": 3
   },
   "file_extension": ".py",
   "mimetype": "text/x-python",
   "name": "python",
   "nbconvert_exporter": "python",
   "pygments_lexer": "ipython3",
   "version": "3.11.9"
  }
 },
 "nbformat": 4,
 "nbformat_minor": 2
}
